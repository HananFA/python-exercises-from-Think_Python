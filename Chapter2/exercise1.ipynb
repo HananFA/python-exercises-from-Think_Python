{
 "cells": [
  {
   "cell_type": "markdown",
   "id": "b3b4a955-3f9b-4581-a066-5619cdde1980",
   "metadata": {},
   "source": [
    "# **Exercise 1 from Chapter2** "
   ]
  },
  {
   "cell_type": "markdown",
   "id": "9fc485fb-b0b0-4cc7-812d-43360d3bea00",
   "metadata": {},
   "source": [
    "- <span style=\"color: blue;\">We’ve seen that n = 42 is legal. What about 42 = n?</span>"
   ]
  },
  {
   "cell_type": "code",
   "execution_count": 15,
   "id": "f1c6d9d4-4bd2-4309-b42c-8ff55b7dac27",
   "metadata": {},
   "outputs": [],
   "source": [
    "n = 42"
   ]
  },
  {
   "cell_type": "code",
   "execution_count": 16,
   "id": "656b9ff4-f5e6-4310-b6ce-b37783559fdd",
   "metadata": {},
   "outputs": [
    {
     "ename": "SyntaxError",
     "evalue": "cannot assign to literal here. Maybe you meant '==' instead of '='? (3090476294.py, line 1)",
     "output_type": "error",
     "traceback": [
      "\u001b[1;36m  Cell \u001b[1;32mIn[16], line 1\u001b[1;36m\u001b[0m\n\u001b[1;33m    42 = n\u001b[0m\n\u001b[1;37m    ^\u001b[0m\n\u001b[1;31mSyntaxError\u001b[0m\u001b[1;31m:\u001b[0m cannot assign to literal here. Maybe you meant '==' instead of '='?\n"
     ]
    }
   ],
   "source": [
    "42 = n"
   ]
  },
  {
   "cell_type": "markdown",
   "id": "aeb6651f-5cd2-4c7c-90ae-0935b8650e18",
   "metadata": {},
   "source": [
    "Executing '42 = n' sows a SyntaxError, because we can't assign a character to a number \n",
    "So the error says that we may forget a '=' if we want to use '==' if we want to check if 'n == 42'"
   ]
  },
  {
   "cell_type": "markdown",
   "id": "b24b7f6b-ad68-4fe9-bca3-3295ba931491",
   "metadata": {},
   "source": [
    "- <span style=\"color: blue;\">How about x = y = 1?</span>"
   ]
  },
  {
   "cell_type": "code",
   "execution_count": 17,
   "id": "efecab24-250f-4dda-a244-8738bf590ca2",
   "metadata": {},
   "outputs": [],
   "source": [
    "x = y = 1"
   ]
  },
  {
   "cell_type": "code",
   "execution_count": 18,
   "id": "c8feab23-b139-4a1c-9f73-7d6b7a84a991",
   "metadata": {},
   "outputs": [
    {
     "data": {
      "text/plain": [
       "1"
      ]
     },
     "execution_count": 18,
     "metadata": {},
     "output_type": "execute_result"
    }
   ],
   "source": [
    "x"
   ]
  },
  {
   "cell_type": "code",
   "execution_count": 19,
   "id": "03e75d3a-5cfc-4793-b9fd-db69099e9ce1",
   "metadata": {},
   "outputs": [
    {
     "data": {
      "text/plain": [
       "1"
      ]
     },
     "execution_count": 19,
     "metadata": {},
     "output_type": "execute_result"
    }
   ],
   "source": [
    "y"
   ]
  },
  {
   "cell_type": "markdown",
   "id": "8130ec95-bbd9-4dee-806c-ec44e782fa35",
   "metadata": {},
   "source": [
    "'x = y = 1' works, it assigns 1 to x and y, simply."
   ]
  },
  {
   "cell_type": "markdown",
   "id": "827a7f08-ac28-4b2e-a4d6-4df44533ad81",
   "metadata": {},
   "source": [
    "- <span style=\"color: blue;\">In some languages every statement ends with a semi-colon, ;. What happens if you put a\n",
    "semi-colon at the end of a Python statement?</span>"
   ]
  },
  {
   "cell_type": "code",
   "execution_count": 25,
   "id": "191320b2-5491-44e0-80b5-db1c02110c25",
   "metadata": {},
   "outputs": [
    {
     "name": "stdout",
     "output_type": "stream",
     "text": [
      "63\n"
     ]
    }
   ],
   "source": [
    "a = 9;\n",
    "b = 7;\n",
    "c = a * b;\n",
    "print(c);"
   ]
  },
  {
   "cell_type": "markdown",
   "id": "8e095431-4a4f-41a0-a2c6-89706d6fb269",
   "metadata": {},
   "source": [
    "If we use semi-colon ';' in python nothing happens."
   ]
  },
  {
   "cell_type": "markdown",
   "id": "95efebbe-5e37-4380-9dea-935c23fbda96",
   "metadata": {},
   "source": [
    "- <span style=\"color: blue;\">What if you put a period at the end of a statement?</span>"
   ]
  },
  {
   "cell_type": "code",
   "execution_count": 26,
   "id": "da1c1414-678a-4be7-8db5-5ed192092f2c",
   "metadata": {},
   "outputs": [
    {
     "ename": "SyntaxError",
     "evalue": "invalid syntax (1921099982.py, line 1)",
     "output_type": "error",
     "traceback": [
      "\u001b[1;36m  Cell \u001b[1;32mIn[26], line 1\u001b[1;36m\u001b[0m\n\u001b[1;33m    exemple = \"in this line, I'll put a period to see what will happens\" .\u001b[0m\n\u001b[1;37m                                                                          ^\u001b[0m\n\u001b[1;31mSyntaxError\u001b[0m\u001b[1;31m:\u001b[0m invalid syntax\n"
     ]
    }
   ],
   "source": [
    "exemple = \"in this line, I'll put a period to see what will happens\" ."
   ]
  },
  {
   "cell_type": "markdown",
   "id": "91be22e8-9ecb-4718-a4d0-35292d8b1ea4",
   "metadata": {},
   "source": [
    "It shows a SyntaxError which is invalid syntax "
   ]
  },
  {
   "cell_type": "markdown",
   "id": "c61cb2da-b6a6-43c1-99fc-620425c12e7b",
   "metadata": {},
   "source": [
    "- <span style=\"color: blue;\">In math notation you can multiply x and y like this: xy. What happens if you try that in Python?</span>"
   ]
  },
  {
   "cell_type": "code",
   "execution_count": 29,
   "id": "20a76d90-83c4-4bf7-8071-1616b30bd911",
   "metadata": {},
   "outputs": [
    {
     "ename": "NameError",
     "evalue": "name 'xy' is not defined",
     "output_type": "error",
     "traceback": [
      "\u001b[1;31m---------------------------------------------------------------------------\u001b[0m",
      "\u001b[1;31mNameError\u001b[0m                                 Traceback (most recent call last)",
      "Cell \u001b[1;32mIn[29], line 3\u001b[0m\n\u001b[0;32m      1\u001b[0m x \u001b[38;5;241m=\u001b[39m \u001b[38;5;241m3\u001b[39m\n\u001b[0;32m      2\u001b[0m y \u001b[38;5;241m=\u001b[39m \u001b[38;5;241m2\u001b[39m\n\u001b[1;32m----> 3\u001b[0m prod \u001b[38;5;241m=\u001b[39m \u001b[43mxy\u001b[49m\n",
      "\u001b[1;31mNameError\u001b[0m: name 'xy' is not defined"
     ]
    }
   ],
   "source": [
    "x = 3\n",
    "y = 2\n",
    "prod = xy"
   ]
  },
  {
   "cell_type": "markdown",
   "id": "9c69b6a9-a809-41f5-a2b8-e51dc18e4314",
   "metadata": {},
   "source": [
    "This also shows an error, we can't multiply x and y like this : xy, xy may be used to be a name of a variable.\n",
    "For multiplying something in python we should use __*__ ."
   ]
  },
  {
   "cell_type": "code",
   "execution_count": null,
   "id": "eddaf550-9b83-496e-af9e-2574270f745e",
   "metadata": {},
   "outputs": [],
   "source": []
  }
 ],
 "metadata": {
  "kernelspec": {
   "display_name": "Python 3 (ipykernel)",
   "language": "python",
   "name": "python3"
  },
  "language_info": {
   "codemirror_mode": {
    "name": "ipython",
    "version": 3
   },
   "file_extension": ".py",
   "mimetype": "text/x-python",
   "name": "python",
   "nbconvert_exporter": "python",
   "pygments_lexer": "ipython3",
   "version": "3.13.0"
  }
 },
 "nbformat": 4,
 "nbformat_minor": 5
}
